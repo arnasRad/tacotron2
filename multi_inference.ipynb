{
 "cells": [
  {
   "cell_type": "markdown",
   "metadata": {
    "pycharm": {
     "name": "#%% md\n"
    }
   },
   "source": [
    "## Tacotron 2 inference code\n",
    "Edit the variables **checkpoint_path** and **text** to match yours and run the entire code to generate plots of mel outputs, alignments and audio synthesis from the generated mel-spectrogram using Griffin-Lim."
   ]
  },
  {
   "cell_type": "markdown",
   "metadata": {
    "pycharm": {
     "name": "#%% md\n"
    }
   },
   "source": [
    "#### Import libraries and setup matplotlib"
   ]
  },
  {
   "cell_type": "code",
   "execution_count": 10,
   "metadata": {
    "pycharm": {
     "name": "#%%\n"
    }
   },
   "outputs": [],
   "source": [
    "from pathlib import Path\n",
    "from typing import List\n",
    "%matplotlib inline\n",
    "import sys\n",
    "from test_sentences import stressed_sentences\n",
    "\n",
    "from scipy.io.wavfile import write\n",
    "import re\n",
    "import matplotlib.pylab as plt\n",
    "\n",
    "sys.path.append('nvidia_waveglow/')\n",
    "import numpy as np\n",
    "import torch\n",
    "\n",
    "from hparams import create_hparams\n",
    "from train import load_model\n",
    "from libs.text import text_to_sequence\n",
    "from nvidia_waveglow.denoiser import Denoiser\n",
    "\n",
    "def plot_data(attn, figsize=(9, 6), imshow=False, out_path=None):\n",
    "    fig, ax = plt.subplots(figsize=figsize)\n",
    "    im = ax.imshow(attn, aspect='auto', origin='lower', interpolation='none')\n",
    "    fig.colorbar(im, ax=ax)\n",
    "    plt.xlabel('Decoder timestep')\n",
    "    plt.ylabel('Encoder timestep')\n",
    "\n",
    "    if out_path:\n",
    "        plt.savefig(out_path)\n",
    "\n",
    "    if not imshow:\n",
    "        plt.close()\n",
    "\n",
    "def prepare_output_filepath(output_dir, sentence):\n",
    "    filename = re.sub(r'[^a-ž ]', '', sentence.lower())\n",
    "    filename = re.sub(r\"[\\u0300\\u0301\\u0303]\", '', filename)\n",
    "    # filename = '_'.join(filename.split()[:10])\n",
    "    filename = '_'.join(filename.split())\n",
    "    return f\"{output_dir}/{filename}.wav\"\n",
    "\n",
    "def synthesize_all(model, checkpoint_name, sentences: List[str], imshow=False):\n",
    "    for sentence in sentences:\n",
    "        filepath = prepare_output_filepath(output_dir, sentence)\n",
    "\n",
    "        sequence = np.array(text_to_sequence(sentence, ['basic_cleaners']))[None, :]\n",
    "        sequence = torch.autograd.Variable(\n",
    "            torch.from_numpy(sequence)).cuda().long()\n",
    "\n",
    "        mel_outputs, mel_outputs_postnet, _, alignments = model.inference(sequence)\n",
    "        plot_data(alignments.float().data.cpu().numpy()[0].T, out_path=filepath.replace('.wav', '.png'), imshow=imshow)\n",
    "\n",
    "        with torch.no_grad():\n",
    "            audio = waveglow.infer(mel_outputs_postnet, sigma=0.666)\n",
    "\n",
    "        audio_denoised = denoiser(audio, strength=0.01)[:, 0]\n",
    "        audio_numpy = audio_denoised.cpu().numpy()\n",
    "\n",
    "        print(f\"Writing {filepath}\")\n",
    "        write(filepath, hparams.sampling_rate, audio_numpy[0])\n",
    "\n",
    "def synthesize_sentences_using_a_list_of_tacotron_checkpoints(tacotron_dir, checkpoints: List[str], sentence_list):\n",
    "    for checkpoint_name in checkpoints:\n",
    "        checkpoint_path = f\"{tacotron_dir}/{checkpoint_name}\"\n",
    "        model = load_model(hparams)\n",
    "        model.load_state_dict(torch.load(checkpoint_path)['state_dict'])\n",
    "        _ = model.cuda().eval().half()\n",
    "\n",
    "        synthesize_all(model, checkpoint_name, sentence_list)\n",
    "\n",
    "def read_sentences_from_filelist(path: Path, stressed: bool) -> List[str]:\n",
    "    with open(path, mode='r', encoding='utf-8') as f:\n",
    "        lines = f.read().strip().split('\\n')\n",
    "    return [line.split('|')[1] if stressed else remove_accents(line.split('|')[1]) for line in lines]\n",
    "\n",
    "def remove_accents(text):\n",
    "    return re.sub('[\\u0300\\u0301\\u0303]', '', text)\n"
   ]
  },
  {
   "cell_type": "code",
   "execution_count": 11,
   "outputs": [],
   "source": [
    "filelist_names = [\n",
    "    \"taco_aurimas_ns\",\n",
    "    \"taco_aurimas_s\",\n",
    "    \"taco_giedrius_ns\",\n",
    "    \"taco_giedrius_s\",\n",
    "    \"taco_vytautas_ns\",\n",
    "    \"taco_vytautas_s\",\n",
    "]"
   ],
   "metadata": {
    "collapsed": false,
    "pycharm": {
     "name": "#%%\n"
    }
   }
  },
  {
   "cell_type": "code",
   "execution_count": 11,
   "metadata": {
    "pycharm": {
     "name": "#%%\n"
    }
   },
   "outputs": [],
   "source": []
  },
  {
   "cell_type": "code",
   "execution_count": 12,
   "outputs": [],
   "source": [
    "# aurimas setup\n",
    "acoustic_name, vocoder_name, acoustic_checkpoint, vocoder_checkpoint, filelist_idx = 'aurimas-2','aurimas-2', \"checkpoint_30000\", 52000, 1\n",
    "# # giedrius setup\n",
    "# acoustic_name, vocoder_name, acoustic_checkpoint, vocoder_checkpoint, filelist_idx = 'giedrius_altoriu_sesely_3','giedrius_altoriu_sesely', \"checkpoint_17500\", 50000, 3\n",
    "# # vytautas setup\n",
    "# acoustic_name, vocoder_name, acoustic_checkpoint, vocoder_checkpoint, filelist_idx = 'vytautas_stressed','vytautas', \"checkpoint_24000\", 216000, 5"
   ],
   "metadata": {
    "collapsed": false,
    "pycharm": {
     "name": "#%%\n"
    }
   }
  },
  {
   "cell_type": "code",
   "execution_count": 13,
   "outputs": [],
   "source": [
    "taco_base_dir = Path(\"/media/arnas/SSD Disk/inovoice/models/text-to-speech/tacotron\")\n",
    "tacotron_dir = taco_base_dir / acoustic_name\n",
    "\n",
    "output_dir = Path(f\"/media/arnas/SSD Disk/uni/semester_4/masters-thesis/mos/filelists/{filelist_names[filelist_idx]}\")\n",
    "output_dir.mkdir(parents=True, exist_ok=True)"
   ],
   "metadata": {
    "collapsed": false,
    "pycharm": {
     "name": "#%%\n"
    }
   }
  },
  {
   "cell_type": "markdown",
   "metadata": {
    "pycharm": {
     "name": "#%% md\n"
    }
   },
   "source": [
    "#### Setup hparams"
   ]
  },
  {
   "cell_type": "code",
   "execution_count": 14,
   "metadata": {
    "pycharm": {
     "name": "#%%\n"
    }
   },
   "outputs": [],
   "source": [
    "hparams = create_hparams()\n",
    "hparams.sampling_rate = 22050"
   ]
  },
  {
   "cell_type": "markdown",
   "metadata": {
    "pycharm": {
     "name": "#%% md\n"
    }
   },
   "source": [
    "#### Load WaveGlow for mel2audio synthesis and denoiser"
   ]
  },
  {
   "cell_type": "code",
   "metadata": {
    "pycharm": {
     "name": "#%%\n",
     "is_executing": true
    }
   },
   "source": [
    "waveglow_path = f\"/media/arnas/SSD Disk/inovoice/models/text-to-speech/waveglow/{vocoder_name}/waveglow_{vocoder_checkpoint}\"\n",
    "\n",
    "waveglow = torch.load(waveglow_path)['model']\n",
    "waveglow.cuda().eval().half()\n",
    "for k in waveglow.convinv:\n",
    "    k.float()\n",
    "denoiser = Denoiser(waveglow)"
   ],
   "execution_count": null,
   "outputs": []
  },
  {
   "cell_type": "code",
   "execution_count": 16,
   "outputs": [],
   "source": [
    "acoustic_checkpoint_path = f\"{tacotron_dir}/{acoustic_checkpoint}\"\n",
    "model = load_model(hparams)\n",
    "model.load_state_dict(torch.load(acoustic_checkpoint_path)['state_dict'])\n",
    "_ = model.cuda().eval().half()"
   ],
   "metadata": {
    "collapsed": false,
    "pycharm": {
     "name": "#%%\n"
    }
   }
  },
  {
   "cell_type": "markdown",
   "source": [
    "#### Synthesize"
   ],
   "metadata": {
    "collapsed": false,
    "pycharm": {
     "name": "#%% md\n"
    }
   }
  },
  {
   "cell_type": "code",
   "execution_count": 17,
   "outputs": [],
   "source": [
    "sents = [\n",
    "    \"- Jū̃s klaũsote sintezúoto tèksto.\",\n",
    "    \"Vìlniaus universitèto Matemãtikos ir̃ informãtikos fakultètas.\",\n",
    "    \"Vãsara paskutìnių kùrsų studeñtams kasmẽt prasìdeda įtemptaĩ – láukia baigiamų̃jų darbų̃ gynìmai. Vìlniaus universitèto Matemãtikos ir̃ informãtikos fakultetè šiaĩs mẽtais jiẽ prasìdeda gegužė̃s trisdešimt pirmąją ir̃ baĩgsis biržẽlio dešimtą diẽną.\",\n",
    "]"
   ],
   "metadata": {
    "collapsed": false,
    "pycharm": {
     "name": "#%%\n"
    }
   }
  },
  {
   "cell_type": "code",
   "execution_count": null,
   "outputs": [],
   "source": [
    "synthesize_all(model, acoustic_checkpoint, sents)\n"
   ],
   "metadata": {
    "collapsed": false,
    "pycharm": {
     "name": "#%%\n",
     "is_executing": true
    }
   }
  }
 ],
 "metadata": {
  "kernelspec": {
   "display_name": "Python 3",
   "language": "python",
   "name": "python3"
  },
  "language_info": {
   "codemirror_mode": {
    "name": "ipython",
    "version": 3
   },
   "file_extension": ".py",
   "mimetype": "text/x-python",
   "name": "python",
   "nbconvert_exporter": "python",
   "pygments_lexer": "ipython3",
   "version": "3.8.5"
  }
 },
 "nbformat": 4,
 "nbformat_minor": 2
}