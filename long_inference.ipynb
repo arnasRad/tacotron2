{
 "cells": [
  {
   "cell_type": "markdown",
   "metadata": {
    "pycharm": {
     "name": "#%% md\n"
    }
   },
   "source": [
    "## Tacotron 2 inference code\n",
    "Edit the variables **checkpoint_path** and **text** to match yours and run the entire code to generate plots of mel outputs, alignments and audio synthesis from the generated mel-spectrogram using Griffin-Lim."
   ]
  },
  {
   "cell_type": "markdown",
   "metadata": {
    "pycharm": {
     "name": "#%% md\n"
    }
   },
   "source": [
    "#### Import liraries and setup matplotlib"
   ]
  },
  {
   "cell_type": "code",
   "execution_count": 3,
   "metadata": {
    "pycharm": {
     "name": "#%%\n"
    }
   },
   "outputs": [],
   "source": [
    "from pydub import AudioSegment\n",
    "from numpy import ndarray\n",
    "from pathlib import Path\n",
    "from typing import List\n",
    "%matplotlib inline\n",
    "import sys\n",
    "\n",
    "from scipy.io.wavfile import write\n",
    "import re\n",
    "import matplotlib.pylab as plt\n",
    "\n",
    "sys.path.append('nvidia_waveglow/')\n",
    "import numpy as np\n",
    "import torch\n",
    "\n",
    "from hparams import create_hparams\n",
    "from train import load_model\n",
    "from libs.text import text_to_sequence\n",
    "from nvidia_waveglow.denoiser import Denoiser\n",
    "\n",
    "def plot_data(data, figsize=(16, 4)):\n",
    "    fig, axes = plt.subplots(1, len(data), figsize=figsize)\n",
    "    for i in range(len(data)):\n",
    "        axes[i].imshow(data[i], aspect='auto', origin='lower',\n",
    "                       interpolation='none')\n",
    "\n",
    "def prepare_output_filepath(output_dir, sentence):\n",
    "    filename = re.sub(r'[^a-ž ]', '', sentence.lower())\n",
    "    filename = re.sub(r\"[\\u0300\\u0301\\u0303]\", '', filename)\n",
    "    filename = '_'.join(filename.split())\n",
    "    return f\"{output_dir}/{filename}.wav\"\n",
    "\n",
    "def prepare_sentences(text: str, max_len=500):\n",
    "    text = re.sub(r'([!?.])\\s{2,}', '\\1\\n', text)\n",
    "    lines = text.split('\\n')\n",
    "    lines = [re.sub(r'\\s{2,}', ' ', line) for line in lines]\n",
    "    return [line.strip() for line in lines\n",
    "            if line and len(line) < max_len]\n",
    "\n",
    "def prepare_sequence(sentence: str):\n",
    "    sequence = np.array(text_to_sequence(sentence, ['basic_cleaners']))[None, :]\n",
    "    return torch.autograd.Variable(torch.from_numpy(sequence)).cuda().long()\n",
    "\n",
    "def waveglow_inference(waveglow, denoiser, mel_outputs_postnet):\n",
    "    with torch.no_grad():\n",
    "            audio = waveglow.infer(mel_outputs_postnet, sigma=0.666)\n",
    "\n",
    "    audio_denoised = denoiser(audio, strength=0.01)[:, 0]\n",
    "    return audio_denoised.cpu().numpy()\n",
    "\n",
    "def write_(audio, output_dir, sample_rate, sentence=None, filename=None):\n",
    "    if filename:\n",
    "        filepath = Path(output_dir) / f\"{filename}.wav\"\n",
    "    elif sentence:\n",
    "        filepath = prepare_output_filepath(output_dir, sentence)\n",
    "    else:\n",
    "        raise ValueError(\"Either `sentence` or `filename` parameters must be passed to write_() method\")\n",
    "\n",
    "    print(f\"Writing {filepath}\")\n",
    "    write(filepath, sample_rate, audio[0])\n",
    "\n",
    "def synthesize_text(taco_model, waveglow_model, denoiser, text: str, plot=False):\n",
    "    sentences = prepare_sentences(text)\n",
    "    return [synthesize_sentence(taco_model, waveglow_model, denoiser, sentence, plot) for sentence in sentences]\n",
    "\n",
    "def synthesize_sentence(taco_model, waveglow_model, denoiser, sentence, plot=False):\n",
    "    sequence = prepare_sequence(sentence)\n",
    "\n",
    "    mel_outputs, mel_outputs_postnet, _, alignments = taco_model.inference(sequence)\n",
    "\n",
    "    if plot:\n",
    "        plot_data((mel_outputs.float().data.cpu().numpy()[0],\n",
    "                   mel_outputs_postnet.float().data.cpu().numpy()[0],\n",
    "                   alignments.float().data.cpu().numpy()[0].T))\n",
    "\n",
    "    return waveglow_inference(waveglow_model, denoiser, mel_outputs_postnet)\n",
    "\n",
    "def concatenate_audios(synthesized: List[ndarray], silence=0):\n",
    "    synth_audios = synthesized.copy()\n",
    "    if silence > 0:\n",
    "        silent_frames = np.array(AudioSegment.silent(duration=1000).get_array_of_samples(), dtype=np.float32).reshape((1, -1))\n",
    "        for i in reversed(range(len(synth_audios)-1)):\n",
    "            synth_audios.insert(i, silent_frames)\n",
    "\n",
    "    return np.concatenate(tuple(synth_audios), axis=1)\n"
   ]
  },
  {
   "cell_type": "markdown",
   "metadata": {
    "pycharm": {
     "name": "#%% md\n"
    }
   },
   "source": [
    "#### Setup hparams"
   ]
  },
  {
   "cell_type": "code",
   "execution_count": 46,
   "outputs": [],
   "source": [
    "output_dir = f\"files/synthesis/aurimas-vocoder/aurimas-acoustic\"\n",
    "# output_name = f\"mazasis_princas_aurimas\"\n",
    "# output_name = f\"mazasis_princas_algis\"\n",
    "# output_name = f\"mazasis_princas_sigutis\"\n",
    "# output_name = f\"mazasis_princas_nijole\"\n",
    "# output_name = f\"mazasis_princas_leonidas\"\n",
    "# output_name = f\"mazasis_princas_paulius\"\n",
    "output_name = f\"mazasis_princas_justas\"\n",
    "Path(output_dir).mkdir(parents=True, exist_ok=True)\n",
    "\n",
    "# tacotron_path = \"/media/arnas/SSD Disk/inovoice/models/text-to-speech/tacotron/aurimas-3/checkpoint_73000\"\n",
    "# waveglow_path = \"/media/arnas/SSD Disk/inovoice/models/text-to-speech/waveglow/aurimas-2/waveglow_52000\"\n",
    "\n",
    "# tacotron_path = \"/media/arnas/SSD Disk/inovoice/models/text-to-speech/tacotron/algis-stressed-1/checkpoint_24000\"\n",
    "# waveglow_path = \"/media/arnas/SSD Disk/inovoice/models/text-to-speech/waveglow/algis-1/waveglow_12000\"\n",
    "\n",
    "# tacotron_path = \"/media/arnas/SSD Disk/inovoice/models/text-to-speech/tacotron/sigutis-1/checkpoint_35000\"\n",
    "# waveglow_path = \"/media/arnas/SSD Disk/inovoice/models/text-to-speech/waveglow/aurimas-2/waveglow_52000\"\n",
    "\n",
    "# tacotron_path = \"/media/arnas/SSD Disk/inovoice/models/text-to-speech/tacotron/nijole-1/checkpoint_48000\"\n",
    "# waveglow_path = \"/media/arnas/SSD Disk/inovoice/models/text-to-speech/waveglow/nijole-4/waveglow_30000\"\n",
    "\n",
    "# tacotron_path = \"/media/arnas/SSD Disk/inovoice/models/text-to-speech/tacotron/leonidas-1/checkpoint_60000\"\n",
    "# waveglow_path = \"/media/arnas/SSD Disk/inovoice/models/text-to-speech/waveglow/aurimas-2/waveglow_52000\"\n",
    "\n",
    "# tacotron_path = \"/media/arnas/SSD Disk/inovoice/models/text-to-speech/tacotron/paulius-3/checkpoint_55000\"\n",
    "# waveglow_path = \"/media/arnas/SSD Disk/inovoice/models/text-to-speech/waveglow/aurimas-2/waveglow_52000\"\n",
    "\n",
    "tacotron_path = \"/media/arnas/SSD Disk/inovoice/models/text-to-speech/tacotron/justas-1/checkpoint_44000\"\n",
    "waveglow_path = \"/media/arnas/SSD Disk/inovoice/models/text-to-speech/waveglow/aurimas-2/waveglow_52000\"\n",
    "\n",
    "hparams = create_hparams()\n",
    "hparams.sampling_rate = 22050"
   ],
   "metadata": {
    "collapsed": false,
    "pycharm": {
     "name": "#%%\n"
    }
   }
  },
  {
   "cell_type": "markdown",
   "metadata": {
    "pycharm": {
     "name": "#%% md\n"
    }
   },
   "source": [
    "#### Load Tacotron text2mel synthesis and WaveGlow for mel2audio synthesis and denoiser"
   ]
  },
  {
   "cell_type": "code",
   "metadata": {
    "pycharm": {
     "name": "#%%\n"
    }
   },
   "source": [
    "tacotron = load_model(hparams)\n",
    "tacotron.load_state_dict(torch.load(tacotron_path)['state_dict'])\n",
    "_ = tacotron.cuda().eval().half()\n",
    "\n",
    "waveglow = torch.load(waveglow_path)['model']\n",
    "waveglow.cuda().eval().half()\n",
    "for k in waveglow.convinv:\n",
    "    k.float()\n",
    "denoiser = Denoiser(waveglow)"
   ],
   "execution_count": 47,
   "outputs": []
  },
  {
   "cell_type": "code",
   "execution_count": 48,
   "outputs": [],
   "source": [
    "karlsonas_text = \"\"\"Astridà Lindgren.\n",
    "MAŽỸLIS IR̃ KÁRLSONAS, KURÌS GYVẼNA AÑT STÓGO.\n",
    "Ketvirtàsis leidìmas.\n",
    "Kárlsonas, kurìs gyvẽna añt stógo Stòkholmo miestè, vienamè paprastõs gãtvės paprastamè namè kaĩp namè, gyvẽna paprastà švèdų Svantesonų šeimà.\n",
    "Tojè šeimojè ràsite pàprastą tė̃tį, pàprastą mãmą ir̃ trìs visái pàprastus vaikùs - Bosę, Betaną ir̃ Mažỹlį.\n",
    "- Õ àš nesù visái pàprastas mažỹlis, - sãko Mažỹlis.\n",
    "Bèt taĩ, žìnoma, netiesà.\n",
    "Jùk pasáulyje tíek daũg septynmẽčių mėlynãkių berniùkų sù neplautõm ausim̃ ir̃ kiauraĩ pratrintaĩs kélnių kẽliais, kàd nėrà kõ nė̃ abejóti: Mažỹlis visái pàprastas berniùkas.\n",
    "Bosei - penkiólika mẽtų, ir̃ jìs daũg mieliaũ stóvi var̃tuose fùtbolo aikštėjè negù priẽ lentõs klãsėje, taĩgi jìs yrà visái pàprastas berniùkas.\n",
    "Betanai - keturiólika mẽtų, ir̃ jõs kãsos vìsiškai tókios pàt kaĩp ir̃ kitų̃ paprastų̃ mergáičių.\n",
    "Ir̃ visamè namè yrà tìk vienà nè visái paprastà būtýbė Kárlsonas, kurìs gyvẽna añt stógo.\n",
    "Tikraĩ, jìs gyvẽna añt stógo, ir̃ jaũ víen dė̃l tõ yrà nè visái pàprastas.\n",
    "Gál kituosè miẽstuose bū̃na kitaĩp, bèt Stòkholme bevéik niẽkad niẽkas negyvẽno añt stógo, ir̃ dár atskiramè mažame.namelyje.\n",
    "Õ šitasaĩ Kárlsonas, tìk pagalvókite, gyvẽna kaĩp tìk tenaĩ.\n",
    "Kárlsonas - taĩ mažýtis, stóras, išdidùs žmogùtis, ir̃ dár jìs móka skraidýti.\n",
    "Lėktùvais ir̃ malū̃nsparniais skraidýti visì gùdrūs, õ Kárlsonas pàts skreñda.\n",
    "Võs tìk paspáudžia mygtùką añt sàvo pil̃vo, añt nùgaros tuõj pràdeda sùktis mãžas motoriùkas.\n",
    "Kõl propèleris geraĩ neįsivãręs, Kárlsonas ramiaĩ stóvi, bèt kaĩ motòras įsibėgė́ja, Kárlsonas šáuna aukštỹn ir̃ lẽkia trupùtį svirduliúodamas, tóks pasipū̃tęs ir̃ orùs, tar̃tum bū́tų kóks dirèktorius, - suprañtama, jéi tìk įsivaizdúosime dirèktorių sù propèleriu añt nùgaros.\n",
    "Kárlsonas gražiaĩ gyvẽna mažamè namẽlyje añt stógo.\n",
    "Vakaraĩs jìs sė́di priebutė̃lyje, pàpsi sáu pýpkę ir̃ žiū̃ri į̃ žvaigždès. Žìnoma, nuõ stógo žvaĩgždės matýti aiškiaũ negù prõ lángus, taĩgi beliẽka tìk stebė́tis, kodė̃l taĩp mažaĩ kàs gyvẽna añt stogų̃.\n",
    "Matýt, kitíems nė̃ nèmaga įsikùrti añt stógo.\n",
    "Jùk jiẽ nežìno, kàd teñ Kárlsonas tùri sàvo namẽlį, nès tàs namẽlis užsiglaũdęs ùž dìdelio kãmino.\n",
    "Õ pagaliaũ ar̃gi suáugusiems rūpė̃s kóks mažýtis nameliùkas, nèt jéigu ir̃ užsidùrtų añt jõ?\n",
    "Sỹkį víenas kaminkrėtỹs staigà pamãtė Kárlsono namẽlį.\n",
    "Jìs labaĩ nusistebė́jo ir̃ tãrė sáu: - Keĩsta...\n",
    "Namẽlis?..\n",
    "Negãli bū́ti!\n",
    "Añt stógo stóvi mažýtis namẽlis?..\n",
    "Kaĩp jìs galė́jo čià atsiràsti?\n",
    "Paskuĩ kaminkrėtỹs ė̃mė krė̃sti kãminą, užmir̃šo namẽlį ir̃ daugiaũ jõ nebeprisìminė.\n",
    "Mažỹlis labaĩ džiaũgėsi susipažìnęs sù Kárlsonu.\n",
    "Kaĩ tiktaĩ Kárlsonas atskrìsdavo, prasidė́davo nepaprastì núotykiai.\n",
    "Kárlsonui, matýt, ir̃gi bùvo malonù sueĩti į̃ pãžintį sù Mažyliù.\n",
    "Ką̃ nóri sakýk, õ nelabaĩ jaukù vienuĩ vienám gyvénti mažamè namẽlyje, ir̃ dár tokiamè, apiẽ kurį̃ niẽkas nėrà nė̃ girdė́jęs.\n",
    "Liū̃dna, jéi nėrà kám sušùkti: \\\"Sveĩkas, Kárlsonai!\\\", kadà tù skrendì prõ šãlį.\n",
    "Jų̃ pažintìs prasidė́jo víeną tókią nelaimìngą diẽną, kaĩ Mažỹlis nèjautė jókio džiaũgsmo, kàd jìs mažỹlis, nórs šiaĩp tokiám bū́ti labaĩ smagù.\n",
    "Jùk Mažỹlis - visõs šeimõs numylė́tinis, ir̃ kiekvíenas jį̃ paĩkina kaĩp išmanýdamas.\n",
    "Bèt tą̃ diẽną vìskas ė̃jo atbulaĩ.\n",
    "Mamà jį̃ ìšbarė, kàd vė̃l pérsiplėšė kélnes, Betana sušùko: \\\"Nusišlúostyk nósį!\\\", õ tė̃tis užsirū́stino añt Mažỹlio, kàd taĩp vėlaĩ sugrį̃žo ìš mokỹklos.\n",
    "- Gãtvėmis šlaistaĩsi! - pasãkė tė̃tis.\n",
    "\\\"Gãtvėmis šlaistaĩsi!\\\" Bèt jùk tė̃tis nežinójo, kàd eĩnant namõ Mažỹliui pasipáiniojo šunýtis.\n",
    "Miẽlas, puikùs šunýtis: jìs apúostė Mažỹlį ir̃ maloniaĩ suvìzgino úodegą lýg sakýdamas, kàd nóri bū́ti jõ šunýtis.\n",
    "Jéigu bū́tų bùvusi Mažỹlio valià, šunýčio nórą bū́tų tuõj paténkinęs.\n",
    "Bèt visà bėdà, kàd mamà ir̃ tė̃tis niekù būdù nenorė́jo laikýti namuosè šuñs.\n",
    "Õ teñ dár ùž kam̃po staigà išnìro kažkokià tetà ir̃ sušùko: \\\"Rìki!\n",
    "Rìki!\n",
    "Eĩk šen!\\\" - ir̃ tadà Mažỹliui pasidãrė vìsiškai áišku, kàd šìtas šunýtis jaũ niekadõs nebùs jõ šunýtis.\n",
    "- Atródo, kàd taĩp vìsą gyvẽnimą ir̃ nugyvénsi bè šuñs, graũdžiai tãrė Mažỹlis, kaĩ vìskas taĩp liūdnaĩ baĩgėsi. - Tù, mãma, turì tė̃tį; ir̃ Bosè sù Betana taĩp pàt visadõs kartù.\n",
    "Õ àš - àš niẽko neturiù!..\n",
    "- Brangùs Mažỹli, jùk mẽs visì tàvo! - pasãkė mamà.\n",
    "- Nežinaũ... - dár graudžiaũ sulemẽno Mažỹlis, nès jám staigà pasiródė, kàd jìs ìš tiesų̃ niẽko netùri pasáulyje.\n",
    "Bejè, jìs turė́jo sàvo kam̃barį ir̃ dabar̃ nuė̃jo į̃ jį̃.\n",
    "Bùvo vaiskùs pavãsario vãkaras, visì langaĩ atdarì.\n",
    "\"\"\""
   ],
   "metadata": {
    "collapsed": false,
    "pycharm": {
     "name": "#%%\n"
    }
   }
  },
  {
   "cell_type": "code",
   "execution_count": 49,
   "outputs": [],
   "source": [
    "mazasis_princas_text=\"\"\"\n",
    "Antuãnas de Sént-Egziuperì.\n",
    "MAŽÀSIS PRÌNCAS.\n",
    "Dedikãcija LẼONUI VERTUI.\n",
    "Atsiprašaũ vaikùs, kàd šią̃ knỹgą paskýriau suáugusiam.\n",
    "Turiù rim̃tą pasitéisinimą: tàs žmogùs yrà geriáusias pasáulyje màno draũgas.\n",
    "Turiù dár kìtą pasitéisinimą: tàs žmogùs gãli vìską supràsti, nèt knygàs vaikáms.\n",
    "Turiù ir̃ trẽčią pasitéisinimą: tàs žmogùs gyvẽna Prancūzìjoje, jìs čià álksta ir̃ šą̃la.\n",
    "Jám labaĩ reĩkia pagúodos. Jéi šių̃ visų̃ pasitéisinimų neužteñka, taĩ šią̃ knỹgą skiriù vaĩkui, kurìs kitadõs bùvo suáugęs žmogùs.\n",
    "Visì suáugusieji ìš pradžių̃ bùvo vaikaĩ. (Tìk nedaũgelis taĩ atsìmena).\n",
    "Taĩgi pataisaũ dedikãciją LẼONUI VERTUI.\n",
    "KAĨ JÌS BÙVO MÃŽAS BERNIÙKAS.\n",
    "Pìrmas skỹrius - mẽs supažìndinami sù pãsakotoju, lakūnù, ir̃ jõ idė́jomis apiẽ suáugusius.\n",
    "Pìrmas skỹrius.\n",
    "Kaĩ mán bùvo šešerì mẽtai, kar̃tą vienojè knỹgoje apiẽ Neįžeñgiamą gìrią - knygà vadìnosi \\\"Pãsakojimai apiẽ dalykùs, kuriẽ tikraĩ įvyko\\\",- radaũ puĩkų paveiksliùką.\n",
    "Jamè bùvo atvaizdúotas smauglỹs, rỹjantis žvė́rį.\n",
    "Štaĩ čià pérpieštas tàs paveiksliùkas.\n",
    "Knỹgoje bùvo parašýta:\n",
    "Smaugliaĩ surỹja sàvo grõbį ìštisą, jõ nekram̃tę.\n",
    "Paskuĩ jiẽ nebegãli judė́ti ir̃ šešìs mė́nesius miẽga, kõl vìską suvìrškina.\n",
    "Àš tadà daũg galvójau apiẽ núotykius džiùnglėse, ir̃ mán ir̃gi pavỹko nupiẽšti spalvótu pieštukù pìrmąjį sàvo piẽšinį.\n",
    "Sàvo piẽšinį nùmeris víenas. Jìs bùvo šìtoks:\n",
    "Sàvo kū́rinį àš paródžiau suáugusiems ir̃ pakláusiau, ar̃ jíems màno piẽšinio baisù.\n",
    "Jiẽ mán atsãkė: \\\"Õ kõ čià bùs baisù skrybėlė̃s?\\\"\n",
    "Àš buvaũ nupiẽšęs visái nè skrýbėlę.\n",
    "Buvaũ nupiẽšęs smaũglį, vìrškinantį dram̃blį.\n",
    "Tadà nùpiešiau smaũglio vìdų, kàd suáugusiems bū́tų suprantamiaũ.\n",
    "Jíems visadà reĩkia áiškinti.\n",
    "Màno piešinỹs nùmeris dù bùvo šìtoks:\n",
    "Suáugę žmónės mán pàtarė liáutis piẽšti ãtvirus ar̃ ùždarus smaugliùs ir̃ verčiaũ domė́tis geogrãfija, istòrija, skaičiãvimu ir̃ gramãtika.\n",
    "Taĩp, bū́damas šešerių̃ mẽtų atsisakiaũ puikiõs daĩlininko karjèros.\n",
    "Mán sugadìno núotaiką taĩ, kàd màno piešiniaĩ nùmeris víenas ir̃ nùmeris dù neturė́jo pasisekìmo.\n",
    "Suáugusieji niekadà niẽko nesuprañta pãtys, ir̃ vaikáms tìkras var̃gas, kàd tùri jíems vìs áiškinti ir̃ áiškinti.\n",
    "Taĩgi mán tẽko riñktis kitókią profèsiją, ir̃ àš išmókau skraidýti lėktùvais. Skraidžiaũ ir̃ šeñ, ir̃ teñ põ pasáulį.\n",
    "Ir̃ geogrãfija mán labaĩ pràvertė.\n",
    "Galė́davau ìš pìrmo žvil̃gsnio atskìrti Kìniją nuõ Arizònos.\n",
    "Taĩ išeĩna labaĩ į̃ gẽrą, jéi nakčià pasiklýsti.\n",
    "Añtras skỹrius - pãsakotojo lėktùvas sudū̃žta dykumojè ir̃ jìs susipažį́sta sù mažúoju prìncu.\n",
    "Añtras skỹrius.\n",
    "Taĩp ir̃ gyvenaũ víenas, neturė́damas sù kuõ tikraĩ pasišnekė́ti, kõl priẽš šẽšerius metùs Sachãroje sugẽdo màno lėktùvas.\n",
    "Jõ motòre kažkàs sulū́žo.\n",
    "Ir̃ kadángi sù manim̃ nebùvo neĩ mechãniko, neĩ keleĩvių, nùtariau pabandýti pàts pašãlinti nemeñką gedìmą. Nuõ tõ priklaũsė, ar̃ lìksiu gývas, ar̃ nè.\n",
    "Vandeñs teturė́jau võs kókiai saváitei.\n",
    "Taĩgi pìrmąjį vãkarą užmigaũ añt smė̃lio, ùž tū́kstančio mỹlių nuõ bèt kuriõs gyvẽnamos viẽtos.\n",
    "Buvaũ labiaũ nuõ visų̃ atskìrtas negù žmogùs, laĩvui sudùžus, kláidžiojantis plaustù vidurỹ vandenýno.\n",
    "Todė̃l gãlite įsivaizdúoti, kaĩp nustebaũ, kaĩ apýaušriu manè pažãdino kažkóks keĩstas balsẽlis.\n",
    "Kažkàs tãrė:\n",
    "- Prašaũ... nupiẽšk mán ãvį!\n",
    "- À?\n",
    "- Nupiẽšk mán ãvį...\"\"\""
   ],
   "metadata": {
    "collapsed": false,
    "pycharm": {
     "name": "#%%\n"
    }
   }
  },
  {
   "cell_type": "code",
   "execution_count": 50,
   "outputs": [
    {
     "name": "stdout",
     "output_type": "stream",
     "text": [
      "Warning! Reached max decoder steps\n",
      "Warning! Reached max decoder steps\n",
      "Warning! Reached max decoder steps\n"
     ]
    }
   ],
   "source": [
    "audios = synthesize_text(tacotron, waveglow, denoiser, mazasis_princas_text, plot=True)\n",
    "audio = concatenate_audios(audios, silence=0.5)"
   ],
   "metadata": {
    "collapsed": false,
    "pycharm": {
     "name": "#%%\n"
    }
   }
  },
  {
   "cell_type": "code",
   "execution_count": 51,
   "outputs": [
    {
     "name": "stdout",
     "output_type": "stream",
     "text": [
      "Writing files/synthesis/aurimas-vocoder/aurimas-acoustic/mazasis_princas_justas.wav\n"
     ]
    }
   ],
   "source": [
    "write_(audio, output_dir, hparams.sampling_rate, filename=output_name)"
   ],
   "metadata": {
    "collapsed": false,
    "pycharm": {
     "name": "#%%\n"
    }
   }
  },
  {
   "cell_type": "code",
   "execution_count": null,
   "outputs": [],
   "source": [],
   "metadata": {
    "collapsed": false,
    "pycharm": {
     "name": "#%%\n"
    }
   }
  }
 ],
 "metadata": {
  "kernelspec": {
   "display_name": "Python 3",
   "language": "python",
   "name": "python3"
  },
  "language_info": {
   "codemirror_mode": {
    "name": "ipython",
    "version": 3
   },
   "file_extension": ".py",
   "mimetype": "text/x-python",
   "name": "python",
   "nbconvert_exporter": "python",
   "pygments_lexer": "ipython3",
   "version": "3.8.5"
  }
 },
 "nbformat": 4,
 "nbformat_minor": 2
}